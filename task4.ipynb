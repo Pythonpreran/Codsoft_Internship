{
 "cells": [
  {
   "cell_type": "code",
   "execution_count": 1,
   "id": "0f2839f5-9db9-48ec-98c1-a0f7005b0ae8",
   "metadata": {},
   "outputs": [],
   "source": [
    "#To find whether the mssg is SPAM or LEGITIMATE \n",
    "import pandas as pd\n",
    "from sklearn.feature_extraction.text import TfidfVectorizer\n",
    "from sklearn.model_selection import train_test_split\n",
    "from sklearn.naive_bayes import MultinomialNB\n",
    "from sklearn.svm import SVC\n",
    "from sklearn.linear_model import LogisticRegression\n",
    "from sklearn.metrics import classification_report, accuracy_score\n"
   ]
  },
  {
   "cell_type": "code",
   "execution_count": 4,
   "id": "0a1cf7db-9852-403c-ab22-cd18708be9a2",
   "metadata": {},
   "outputs": [],
   "source": [
    "df = pd.read_csv(r'C:\\Users\\91948\\Downloads\\archive\\spam.csv', encoding='latin-1')\n",
    "\n",
    "# Keep only the relevant columns\n",
    "df = df[['v1', 'v2']]\n",
    "\n",
    "# Rename the columns\n",
    "df.columns = ['label', 'message']\n",
    "\n",
    "# Convert labels to binary (0 for ham, 1 for spam)\n",
    "df['label'] = df['label'].map({'ham': 0, 'spam': 1})\n"
   ]
  },
  {
   "cell_type": "code",
   "execution_count": 5,
   "id": "83c91b16-da82-43e1-a57d-2dc76e9c00e5",
   "metadata": {},
   "outputs": [],
   "source": [
    "# Split data into features (X) and labels (y)\n",
    "X = df['message']\n",
    "y = df['label']\n",
    "\n",
    "# Split into training and test sets\n",
    "X_train, X_test, y_train, y_test = train_test_split(X, y, test_size=0.2, random_state=42)\n"
   ]
  },
  {
   "cell_type": "code",
   "execution_count": 6,
   "id": "9d581965-7bc7-4dcc-856f-c59d9e04ce90",
   "metadata": {},
   "outputs": [],
   "source": [
    "# Vectorize text data\n",
    "tfidf = TfidfVectorizer(stop_words='english')\n",
    "X_train_tfidf = tfidf.fit_transform(X_train)\n",
    "X_test_tfidf = tfidf.transform(X_test)\n"
   ]
  },
  {
   "cell_type": "code",
   "execution_count": 9,
   "id": "21a777dd-a18a-4621-9d1b-e16ab3718d9d",
   "metadata": {},
   "outputs": [
    {
     "name": "stdout",
     "output_type": "stream",
     "text": [
      "SVM Accuracy: 0.9766816143497757\n",
      "              precision    recall  f1-score   support\n",
      "\n",
      "           0       0.97      1.00      0.99       965\n",
      "           1       0.99      0.83      0.91       150\n",
      "\n",
      "    accuracy                           0.98      1115\n",
      "   macro avg       0.98      0.92      0.95      1115\n",
      "weighted avg       0.98      0.98      0.98      1115\n",
      "\n"
     ]
    }
   ],
   "source": [
    "svm_model = SVC()\n",
    "svm_model.fit(X_train_tfidf, y_train)\n",
    "\n",
    "y_pred_svm = svm_model.predict(X_test_tfidf)\n",
    "\n",
    "print(\"SVM Accuracy:\", accuracy_score(y_test, y_pred_svm))\n",
    "print(classification_report(y_test, y_pred_svm))\n"
   ]
  },
  {
   "cell_type": "code",
   "execution_count": 11,
   "id": "f5ee671e-1b31-4401-90e0-d4eee2e1aa66",
   "metadata": {},
   "outputs": [
    {
     "name": "stdin",
     "output_type": "stream",
     "text": [
      "Enter an SMS message to classify (or type 'exit' to quit):  WINNER!! As a valued network customer you have been selected to receivea å£900 prize reward! To claim call 09061701461. Claim code KL341. Valid 12 hours only.\n"
     ]
    },
    {
     "name": "stdout",
     "output_type": "stream",
     "text": [
      "The message is classified as SPAM.\n"
     ]
    },
    {
     "name": "stdin",
     "output_type": "stream",
     "text": [
      "Enter an SMS message to classify (or type 'exit' to quit):  U WON $2000, QUICKLY CONTACT US \n"
     ]
    },
    {
     "name": "stdout",
     "output_type": "stream",
     "text": [
      "The message is classified as LEGITIMATE.\n"
     ]
    },
    {
     "name": "stdin",
     "output_type": "stream",
     "text": [
      "Enter an SMS message to classify (or type 'exit' to quit):  www.lwer.com\n"
     ]
    },
    {
     "name": "stdout",
     "output_type": "stream",
     "text": [
      "The message is classified as SPAM.\n"
     ]
    },
    {
     "name": "stdin",
     "output_type": "stream",
     "text": [
      "Enter an SMS message to classify (or type 'exit' to quit):  Quickly contact 29883000 or www.xyz.com to claim ur lottery !!!\n"
     ]
    },
    {
     "name": "stdout",
     "output_type": "stream",
     "text": [
      "The message is classified as SPAM.\n"
     ]
    },
    {
     "name": "stdin",
     "output_type": "stream",
     "text": [
      "Enter an SMS message to classify (or type 'exit' to quit):  exit\n"
     ]
    }
   ],
   "source": [
    "def check_spam(message):\n",
    "    # Transform the input message using the trained TF-IDF vectorizer\n",
    "    message_tfidf = tfidf.transform([message])\n",
    "    \n",
    "    # Predict using the trained SVM model\n",
    "    prediction = svm_model.predict(message_tfidf)\n",
    "    \n",
    "    # Output the result\n",
    "    if prediction[0] == 1:\n",
    "        print(\"The message is classified as SPAM.\")\n",
    "    else:\n",
    "        print(\"The message is classified as LEGITIMATE.\")\n",
    "\n",
    "# Example: Get user input and classify\n",
    "while True:\n",
    "    user_message = input(\"Enter an SMS message to classify (or type 'exit' to quit): \")\n",
    "    if user_message.lower() == 'exit':\n",
    "        break\n",
    "    check_spam(user_message)"
   ]
  },
  {
   "cell_type": "code",
   "execution_count": null,
   "id": "45afd384-b7ec-4654-8bf8-a4c2bae6febf",
   "metadata": {},
   "outputs": [],
   "source": []
  }
 ],
 "metadata": {
  "kernelspec": {
   "display_name": "Python 3 (ipykernel)",
   "language": "python",
   "name": "python3"
  },
  "language_info": {
   "codemirror_mode": {
    "name": "ipython",
    "version": 3
   },
   "file_extension": ".py",
   "mimetype": "text/x-python",
   "name": "python",
   "nbconvert_exporter": "python",
   "pygments_lexer": "ipython3",
   "version": "3.11.4"
  }
 },
 "nbformat": 4,
 "nbformat_minor": 5
}
